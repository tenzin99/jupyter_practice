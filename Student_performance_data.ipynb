{
 "cells": [
  {
   "cell_type": "code",
   "execution_count": null,
   "id": "6b880ea7-c325-4761-8609-e1f8fb0a648f",
   "metadata": {},
   "outputs": [],
   "source": [
    "import kaggle\n",
    "#!kaggle datasets download rabieelkharoua/students-performance-dataset -f Student_performance_data_.csv\n",
    "import os\n",
    "import zipfile\n",
    "from pathlib import Path\n",
    "\n",
    "# Define paths\n",
    "data_dir = Path('./datasets')\n",
    "zip_file_path = data_dir / 'students-performance-dataset.zip'\n",
    "\n",
    "# Create directory if it doesn't exist\n",
    "data_dir.mkdir(parents=True, exist_ok=True)\n",
    "\n",
    "# Define the dataset and download it\n",
    "dataset_name = 'rabieelkharoua/students-performance-dataset'\n",
    "!kaggle datasets download -d {dataset_name} -p {data_dir}\n",
    "\n",
    "# Unzip the downloaded file\n",
    "with zipfile.ZipFile(zip_file_path, 'r') as zip_ref:\n",
    "    zip_ref.extractall(data_dir)\n",
    "\n",
    "# List the extracted files\n",
    "extracted_files = [f for f in data_dir.iterdir() if f.is_file()]\n",
    "print(\"Extracted Files:\")\n",
    "for file in extracted_files:\n",
    "   print(file)\n",
    "    \n"
   ]
  },
  {
   "cell_type": "code",
   "execution_count": 4,
   "id": "013b668c-9d46-475b-bb24-9ca2bb9d977c",
   "metadata": {
    "panel-layout": {
     "height": 0,
     "visible": true,
     "width": 100
    }
   },
   "outputs": [
    {
     "name": "stdout",
     "output_type": "stream",
     "text": [
      "   StudentID  Age  Gender  Ethnicity  ParentalEducation  StudyTimeWeekly  \\\n",
      "0       1001   17       1          0                  2        19.833723   \n",
      "1       1002   18       0          0                  1        15.408756   \n",
      "2       1003   15       0          2                  3         4.210570   \n",
      "3       1004   17       1          0                  3        10.028829   \n",
      "4       1005   17       1          0                  2         4.672495   \n",
      "\n",
      "   Absences  Tutoring  ParentalSupport  Extracurricular  Sports  Music  \\\n",
      "0         7         1                2                0       0      1   \n",
      "1         0         0                1                0       0      0   \n",
      "2        26         0                2                0       0      0   \n",
      "3        14         0                3                1       0      0   \n",
      "4        17         1                3                0       0      0   \n",
      "\n",
      "   Volunteering       GPA  GradeClass  \n",
      "0             0  2.929196         2.0  \n",
      "1             0  3.042915         1.0  \n",
      "2             0  0.112602         4.0  \n",
      "3             0  2.054218         3.0  \n",
      "4             0  1.288061         4.0  \n"
     ]
    }
   ],
   "source": [
    "import pandas as pd\n",
    "\n",
    "#reading csv file\n",
    "df = pd.read_csv('Student_performance_data _.csv')\n",
    "\n",
    "#displaying the few rows\n",
    "print(df.head())\n"
   ]
  },
  {
   "cell_type": "code",
   "execution_count": 5,
   "id": "1df4c93b-3c2b-4876-b55c-1a866b7c51fc",
   "metadata": {
    "panel-layout": {
     "height": 0,
     "visible": true,
     "width": 100
    }
   },
   "outputs": [
    {
     "name": "stdout",
     "output_type": "stream",
     "text": [
      "<class 'pandas.core.frame.DataFrame'>\n",
      "RangeIndex: 2392 entries, 0 to 2391\n",
      "Data columns (total 15 columns):\n",
      " #   Column             Non-Null Count  Dtype  \n",
      "---  ------             --------------  -----  \n",
      " 0   StudentID          2392 non-null   int64  \n",
      " 1   Age                2392 non-null   int64  \n",
      " 2   Gender             2392 non-null   int64  \n",
      " 3   Ethnicity          2392 non-null   int64  \n",
      " 4   ParentalEducation  2392 non-null   int64  \n",
      " 5   StudyTimeWeekly    2392 non-null   float64\n",
      " 6   Absences           2392 non-null   int64  \n",
      " 7   Tutoring           2392 non-null   int64  \n",
      " 8   ParentalSupport    2392 non-null   int64  \n",
      " 9   Extracurricular    2392 non-null   int64  \n",
      " 10  Sports             2392 non-null   int64  \n",
      " 11  Music              2392 non-null   int64  \n",
      " 12  Volunteering       2392 non-null   int64  \n",
      " 13  GPA                2392 non-null   float64\n",
      " 14  GradeClass         2392 non-null   float64\n",
      "dtypes: float64(3), int64(12)\n",
      "memory usage: 280.4 KB\n",
      "None\n",
      "         StudentID          Age       Gender    Ethnicity  ParentalEducation  \\\n",
      "count  2392.000000  2392.000000  2392.000000  2392.000000        2392.000000   \n",
      "mean   2196.500000    16.468645     0.510870     0.877508           1.746237   \n",
      "std     690.655244     1.123798     0.499986     1.028476           1.000411   \n",
      "min    1001.000000    15.000000     0.000000     0.000000           0.000000   \n",
      "25%    1598.750000    15.000000     0.000000     0.000000           1.000000   \n",
      "50%    2196.500000    16.000000     1.000000     0.000000           2.000000   \n",
      "75%    2794.250000    17.000000     1.000000     2.000000           2.000000   \n",
      "max    3392.000000    18.000000     1.000000     3.000000           4.000000   \n",
      "\n",
      "       StudyTimeWeekly     Absences     Tutoring  ParentalSupport  \\\n",
      "count      2392.000000  2392.000000  2392.000000      2392.000000   \n",
      "mean          9.771992    14.541388     0.301421         2.122074   \n",
      "std           5.652774     8.467417     0.458971         1.122813   \n",
      "min           0.001057     0.000000     0.000000         0.000000   \n",
      "25%           5.043079     7.000000     0.000000         1.000000   \n",
      "50%           9.705363    15.000000     0.000000         2.000000   \n",
      "75%          14.408410    22.000000     1.000000         3.000000   \n",
      "max          19.978094    29.000000     1.000000         4.000000   \n",
      "\n",
      "       Extracurricular       Sports        Music  Volunteering          GPA  \\\n",
      "count      2392.000000  2392.000000  2392.000000   2392.000000  2392.000000   \n",
      "mean          0.383361     0.303512     0.196906      0.157191     1.906186   \n",
      "std           0.486307     0.459870     0.397744      0.364057     0.915156   \n",
      "min           0.000000     0.000000     0.000000      0.000000     0.000000   \n",
      "25%           0.000000     0.000000     0.000000      0.000000     1.174803   \n",
      "50%           0.000000     0.000000     0.000000      0.000000     1.893393   \n",
      "75%           1.000000     1.000000     0.000000      0.000000     2.622216   \n",
      "max           1.000000     1.000000     1.000000      1.000000     4.000000   \n",
      "\n",
      "        GradeClass  \n",
      "count  2392.000000  \n",
      "mean      2.983696  \n",
      "std       1.233908  \n",
      "min       0.000000  \n",
      "25%       2.000000  \n",
      "50%       4.000000  \n",
      "75%       4.000000  \n",
      "max       4.000000  \n",
      "StudentID            0\n",
      "Age                  0\n",
      "Gender               0\n",
      "Ethnicity            0\n",
      "ParentalEducation    0\n",
      "StudyTimeWeekly      0\n",
      "Absences             0\n",
      "Tutoring             0\n",
      "ParentalSupport      0\n",
      "Extracurricular      0\n",
      "Sports               0\n",
      "Music                0\n",
      "Volunteering         0\n",
      "GPA                  0\n",
      "GradeClass           0\n",
      "dtype: int64\n"
     ]
    }
   ],
   "source": [
    "#basic info about the DataFrame\n",
    "print(df.info())\n",
    "\n",
    "print(df.describe())\n",
    "\n",
    "#check for missing values\n",
    "print(df.isnull().sum())"
   ]
  },
  {
   "cell_type": "code",
   "execution_count": 6,
   "id": "61101dd5-8833-410e-8ddb-c48366b305ba",
   "metadata": {},
   "outputs": [],
   "source": [
    "sel_columns = df[['Gender', 'Ethnicity', 'GPA']]\n",
    "\n",
    "f_students = df[df['Gender'] == '1']"
   ]
  },
  {
   "cell_type": "code",
   "execution_count": 7,
   "id": "edfb3c69-1d8c-4be3-a042-97bfd1a50ebc",
   "metadata": {},
   "outputs": [],
   "source": [
    "pass_students = df[df['GPA'] > 70]"
   ]
  },
  {
   "cell_type": "code",
   "execution_count": 8,
   "id": "af5474a3-6739-4350-8a4a-4623e1b9c787",
   "metadata": {},
   "outputs": [],
   "source": [
    "#dropping rows that has missing values\n",
    "df_clean = df.dropna()\n",
    "\n",
    "#removing duplicates\n",
    "df_unique = df.drop_duplicates()\n",
    "\n",
    "#replacing missing values\n",
    "#df['GPA'].fillna(df['GPA'].mean(), inplace=True)\n",
    "\n"
   ]
  },
  {
   "cell_type": "code",
   "execution_count": 9,
   "id": "d7e22de8-5716-413e-a85a-bed3bff49a2d",
   "metadata": {
    "panel-layout": {
     "height": 586,
     "visible": true,
     "width": 100
    }
   },
   "outputs": [
    {
     "data": {
      "image/png": "[encoded data removed]",
      "text/plain": [
       "<Figure size 600x400 with 1 Axes>"
      ]
     },
     "metadata": {},
     "output_type": "display_data"
    }
   ],
   "source": [
    "import matplotlib.pyplot as plt\n",
    "import seaborn as sns\n",
    "\n",
    "#placing histogram\n",
    "plt.figure(figsize=(6,4))\n",
    "sns.histplot(df['GPA'], bins= 10, kde=True)\n",
    "plt.title('Distribution of GPA')\n",
    "plt.xlabel('GPA')\n",
    "plt.ylabel('Wave')\n",
    "plt.show()"
   ]
  },
  {
   "cell_type": "code",
   "execution_count": 10,
   "id": "29a989b6-1145-4ac1-a1a5-04b71cdc8a18",
   "metadata": {
    "panel-layout": {
     "height": 586,
     "visible": true,
     "width": 100
    }
   },
   "outputs": [],
   "source": [
    "#save the file to csv\n",
    "df.to_csv('modified_students_performance.csv', index=False)"
   ]
  }
 ],
 "metadata": {
  "kernelspec": {
   "display_name": "Python 3 (ipykernel)",
   "language": "python",
   "name": "python3"
  },
  "language_info": {
   "codemirror_mode": {
    "name": "ipython",
    "version": 3
   },
   "file_extension": ".py",
   "mimetype": "text/x-python",
   "name": "python",
   "nbconvert_exporter": "python",
   "pygments_lexer": "ipython3",
   "version": "3.12.4"
  },
  "panel-cell-order": [
   "0e236fc1-78a0-439c-ade2-335ac324eeec",
   "013b668c-9d46-475b-bb24-9ca2bb9d977c",
   "1df4c93b-3c2b-4876-b55c-1a866b7c51fc",
   "d7e22de8-5716-413e-a85a-bed3bff49a2d",
   "29a989b6-1145-4ac1-a1a5-04b71cdc8a18"
  ]
 },
 "nbformat": 4,
 "nbformat_minor": 5
}
